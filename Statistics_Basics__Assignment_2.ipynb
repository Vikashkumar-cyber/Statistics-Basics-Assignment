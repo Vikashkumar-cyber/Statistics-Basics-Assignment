{
  "nbformat": 4,
  "nbformat_minor": 0,
  "metadata": {
    "colab": {
      "provenance": []
    },
    "kernelspec": {
      "name": "python3",
      "display_name": "Python 3"
    },
    "language_info": {
      "name": "python"
    }
  },
  "cells": [
    {
      "cell_type": "markdown",
      "source": [
        "#Statistics Basics| Assignment"
      ],
      "metadata": {
        "id": "OyPAh7QEkKOV"
      }
    },
    {
      "cell_type": "markdown",
      "source": [
        "Question 1: What is the difference between descriptive statistics and inferential statistics? Explain with examples.\n",
        "\n",
        "--> Statistics is a key field that helps us make sense of data through collection, analysis, and presentation. It plays an important role in many areas, from business to healthcare, by guiding decision-making and drawing conclusions. This process is made easier with the help of two main branches of statistics: descriptive and inferential.\n",
        "\n",
        "Descriptive Statistics\n",
        "Descriptive statistics refers to the process of summarizing and analyzing data to describe its main features in a clear and meaningful way. It is used to present raw data in a form that makes it easier to understand and interpret. Descriptive statistics involves both graphical representations (such as charts and plots) and numerical measures to summarize data effectively. Unlike inferential statistics, which makes predictions about a population based on a sample, Descriptive statistics is applied to data that is already known.\n",
        "Example: Calculating the average income of employees in a specific company.\n",
        "Inferential Statistics:\n",
        "\n",
        "\n",
        "Inferential Statistics\n",
        "Inferential statistics involves using data from a sample to make predictions, generalizations, or conclusions about a larger population. Unlike descriptive statistics, which simply summarizes known data, inferential statistics makes inferences or draws conclusions that go beyond the available data. It uses probability theory to estimate population parameters and test hypotheses. By working with a sample, inferential statistics allows researchers to make informed decisions without having to gather data from an entire population.\n",
        "Example:\n",
        "Using a survey of 100 voters to predict the outcome of an election.\n",
        "\n",
        "\n",
        "\n",
        "Question 2: What is sampling in statistics? Explain the differences between random\n",
        "and stratified sampling.\n",
        "\n",
        "--> In statistics, sampling is the process of selecting a subset of individuals from a larger population to study and draw inferences about the entire population. Simple random sampling gives each member of the population an equal chance of being selected. Stratified random sampling divides the population into subgroups (strata) based on shared characteristics and then randomly selects from within each stratum.\n",
        "Simple Random Sampling:\n",
        "Definition:\n",
        "Every individual in the population has an equal and independent chance of being selected for the sample.\n",
        "Process:\n",
        "A random number generator or a lottery system can be used to select individuals.\n",
        "Example:\n",
        "To survey students about their study habits, you could randomly select 50 students from the entire student roster.\n",
        "Advantages:\n",
        "Easy to implement, minimizes bias if the population is relatively homogeneous.\n",
        "Disadvantages:\n",
        "May not accurately represent the population if there are significant subgroups with different characteristics.\n",
        "Stratified Random Sampling:\n",
        "Definition:\n",
        "The population is divided into subgroups (strata) based on shared characteristics, and then a random sample is taken from each stratum.\n",
        "Process:\n",
        "The population is divided into strata (e.g., by age, gender, income), and then a random sample is selected from each stratum.\n",
        "Example:\n",
        "To survey opinions on a new policy, you could divide the population into age groups (e.g., 18-24, 25-34, 35-44, etc.) and then randomly select a proportionate number of individuals from each age group.\n",
        "Advantages:\n",
        "Ensures representation of different subgroups, leading to more accurate results, especially when there are significant differences between subgroups.\n",
        "Disadvantages:\n",
        "Requires knowledge of the population's characteristics to create appropriate strata, and can be more complex to implement.\n",
        "\n",
        "\n",
        "Question 3: Define mean, median, and mode. Explain why these measures of central\n",
        "tendency are important.\n",
        "\n",
        "--> Mean:\n",
        "Definition: The sum of all values in a dataset divided by the number of values.\n",
        "Example: For the dataset {2, 4, 6, 8, 10}, the mean is (2+4+6+8+10)/5 = 6.\n",
        "Usefulness: Provides a general average, useful for evenly distributed data and for comparing different datasets.\n",
        "Median:\n",
        "Definition: The middle value in a dataset when it's ordered from least to greatest.\n",
        "Example: For the dataset {2, 4, 6, 8, 10}, the median is 6. For the dataset {2, 4, 6, 8}, the median is (4+6)/2 = 5.\n",
        "Usefulness: Less affected by outliers (extreme high or low values) than the mean, providing a better representation of the center in skewed distributions.\n",
        "Mode:\n",
        "Definition: The value that appears most often in a dataset.\n",
        "Example: For the dataset {2, 4, 4, 6, 8, 10}, the mode is 4.\n",
        "Usefulness: Useful for identifying the most common value, especially in categorical data.\n",
        "Importance of Measures of Central Tendency:\n",
        "Summarization: They condense a large dataset into a single, representative value, making it easier to grasp the data's overall tendency.\n",
        "Comparison: Allow for easy comparison between different datasets or groups.\n",
        "Decision Making: Provide insights that can be used for informed decision-making in various fields, from business to research.\n",
        "Data Interpretation: Help understand the distribution of data and identify patterns or trends.\n",
        "Skewness Detection: The relationship between the mean, median, and mode can indicate whether a distribution is symmetrical or skewed (leaning towards one side).\n",
        "\n",
        "\n",
        "Question 4: Explain skewness and kurtosis. What does a positive skew imply about the\n",
        "data?\n",
        "\n",
        "--> Skewness\n",
        "Definition:\n",
        "Skewness measures the degree of asymmetry in a distribution. A symmetrical distribution has a skewness of zero.\n",
        "Positive Skewness:\n",
        "A positive skew (also called right skew) indicates that the tail of the distribution is longer on the right side, meaning there are more extreme values on the higher end of the scale. The mean is typically greater than the median in a positively skewed distribution.\n",
        "Negative Skewness:\n",
        "A negative skew (also called left skew) indicates that the tail of the distribution is longer on the left side, with more extreme values on the lower end. The mean is typically less than the median in a negatively skewed distribution.\n",
        "Kurtosis\n",
        "Definition:\n",
        "Kurtosis measures the \"tailedness\" of the distribution, indicating how much the data is concentrated around the center or how much it is spread out in the tails.\n",
        "High Kurtosis (Leptokurtic):\n",
        "A high kurtosis indicates a distribution with a sharp peak and heavy tails, meaning there are more outliers and extreme values.\n",
        "Low Kurtosis (Platykurtic):\n",
        "A low kurtosis indicates a flatter distribution with lighter tails, meaning there are fewer outliers and extreme values.\n",
        "Normal Kurtosis (Mesokurtic):\n",
        "A normal kurtosis indicates a bell-shaped distribution with moderate tails.\n",
        "Positive Skewness and Data Interpretation\n",
        "In a positively skewed distribution:\n",
        "The majority of the data points are clustered on the left side of the distribution, with a few high outliers on the right.\n",
        "The mean is pulled towards the right due to the influence of the extreme values, making it greater than the median and mode.\n",
        "The distribution is asymmetrical, with a longer tail on the right side.\n",
        "For example, in a dataset of income, a positive skew might indicate that a few high earners are significantly increasing the average income, while most people earn less\n",
        "\n",
        "\n"
      ],
      "metadata": {
        "id": "isXZpqsVkKH8"
      }
    },
    {
      "cell_type": "markdown",
      "source": [
        "Question 5: Implement a Python program to compute the mean, median, and mode of\n",
        "a given list of numbers.\n",
        "numbers = [12, 15, 12, 18, 19, 12, 20, 22, 19, 19, 24, 24, 24, 26, 28]\n",
        "(Include your Python code and output in the code box below.)"
      ],
      "metadata": {
        "id": "QP1UBSb4kKC3"
      }
    },
    {
      "cell_type": "code",
      "execution_count": null,
      "metadata": {
        "colab": {
          "base_uri": "https://localhost:8080/"
        },
        "id": "yCuZf2OukIYe",
        "outputId": "13a78dbd-2d2b-49bc-e5a9-a77837e905c8"
      },
      "outputs": [
        {
          "output_type": "stream",
          "name": "stdout",
          "text": [
            "Mean: 19.6\n",
            "Median: 19\n",
            "Mode: [12, 19, 24]\n"
          ]
        }
      ],
      "source": [
        "from collections import Counter\n",
        "import statistics\n",
        "\n",
        "numbers = [12, 15, 12, 18, 19, 12, 20, 22, 19, 19, 24, 24, 24, 26, 28]\n",
        "\n",
        "# Calculate the mean\n",
        "mean_value = sum(numbers) / len(numbers)\n",
        "print(f\"Mean: {mean_value}\")\n",
        "\n",
        "# Calculate the median\n",
        "# Sort the list first\n",
        "sorted_numbers = sorted(numbers)\n",
        "n = len(sorted_numbers)\n",
        "if n % 2 == 0:\n",
        "    # If the number of elements is even, the median is the average of the two middle elements\n",
        "    mid1 = sorted_numbers[n // 2 - 1]\n",
        "    mid2 = sorted_numbers[n // 2]\n",
        "    median_value = (mid1 + mid2) / 2\n",
        "else:\n",
        "    # If the number of elements is odd, the median is the middle element\n",
        "    median_value = sorted_numbers[n // 2]\n",
        "print(f\"Median: {median_value}\")\n",
        "\n",
        "# Calculate the mode\n",
        "# Use Counter to count the frequency of each number\n",
        "number_counts = Counter(numbers)\n",
        "# Find the number(s) with the highest frequency\n",
        "max_count = max(number_counts.values())\n",
        "mode_values = [num for num, count in number_counts.items() if count == max_count]\n",
        "print(f\"Mode: {mode_values}\")"
      ]
    },
    {
      "cell_type": "markdown",
      "source": [
        "Question 6: Compute the covariance and correlation coefficient between the following\n",
        "two datasets provided as lists in Python:\n",
        "list_x = [10, 20, 30, 40, 50]\n",
        "list_y = [15, 25, 35, 45, 60]\n",
        "(Include your Python code and output in the code box below.)"
      ],
      "metadata": {
        "id": "ZBCJ2n6anD7N"
      }
    },
    {
      "cell_type": "code",
      "source": [
        "import numpy as np\n",
        "\n",
        "list_x = [10, 20, 30, 40, 50]\n",
        "list_y = [15, 25, 35, 45, 60]\n",
        "\n",
        "# Convert lists to numpy arrays for easier calculations\n",
        "x = np.array(list_x)\n",
        "y = np.array(list_y)\n",
        "\n",
        "# Calculate the covariance\n",
        "covariance = np.cov(x, y)[0, 1]\n",
        "print(f\"Covariance: {covariance}\")\n",
        "\n",
        "# Calculate the correlation coefficient\n",
        "correlation_coefficient = np.corrcoef(x, y)[0, 1]\n",
        "print(f\"Correlation Coefficient: {correlation_coefficient}\")"
      ],
      "metadata": {
        "colab": {
          "base_uri": "https://localhost:8080/"
        },
        "id": "JLP31TpWnFnX",
        "outputId": "f4b7bbd0-b3fd-40f0-e5b5-4c36aeac10a5"
      },
      "execution_count": null,
      "outputs": [
        {
          "output_type": "stream",
          "name": "stdout",
          "text": [
            "Covariance: 275.0\n",
            "Correlation Coefficient: 0.995893206467704\n"
          ]
        }
      ]
    },
    {
      "cell_type": "markdown",
      "source": [
        "Question 7: Write a Python script to draw a boxplot for the following numeric list and\n",
        "identify its outliers. Explain the result:\n",
        "data = [12, 14, 14, 15, 18, 19, 19, 21, 22, 22, 23, 23, 24, 26, 29, 35]\n",
        "(Include your Python code and output in the code box below.)"
      ],
      "metadata": {
        "id": "h1w9T0KWnLoZ"
      }
    },
    {
      "cell_type": "code",
      "source": [
        "import matplotlib.pyplot as plt\n",
        "import numpy as np\n",
        "\n",
        "data = [12, 14, 14, 15, 18, 19, 19, 21, 22, 22, 23, 23, 24, 26, 29, 35]\n",
        "\n",
        "# Create a boxplot\n",
        "plt.figure(figsize=(8, 6))\n",
        "plt.boxplot(data, vert=False)\n",
        "plt.title('Boxplot of Data')\n",
        "plt.xlabel('Values')\n",
        "plt.show()\n",
        "\n",
        "# Identify outliers using the IQR method\n",
        "q1 = np.percentile(data, 25)\n",
        "q3 = np.percentile(data, 75)\n",
        "iqr = q3 - q1\n",
        "\n",
        "lower_bound = q1 - 1.5 * iqr\n",
        "upper_bound = q3 + 1.5 * iqr\n",
        "\n",
        "outliers = [x for x in data if x < lower_bound or x > upper_bound]\n",
        "\n",
        "print(f\"Q1: {q1}\")\n",
        "print(f\"Q3: {q3}\")\n",
        "print(f\"IQR: {iqr}\")\n",
        "print(f\"Lower Bound (Outlier threshold): {lower_bound}\")\n",
        "print(f\"Upper Bound (Outlier threshold): {upper_bound}\")\n",
        "print(f\"Identified Outliers: {outliers}\")"
      ],
      "metadata": {
        "colab": {
          "base_uri": "https://localhost:8080/",
          "height": 668
        },
        "id": "5ZD1v8l5nPtp",
        "outputId": "d46ba5f4-49d9-4453-cb75-4bce54a40a32"
      },
      "execution_count": null,
      "outputs": [
        {
          "output_type": "display_data",
          "data": {
            "text/plain": [
              "<Figure size 800x600 with 1 Axes>"
            ],
            "image/png": "[encoded data removed]"
          },
          "metadata": {}
        },
        {
          "output_type": "stream",
          "name": "stdout",
          "text": [
            "Q1: 17.25\n",
            "Q3: 23.25\n",
            "IQR: 6.0\n",
            "Lower Bound (Outlier threshold): 8.25\n",
            "Upper Bound (Outlier threshold): 32.25\n",
            "Identified Outliers: [35]\n"
          ]
        }
      ]
    },
    {
      "cell_type": "markdown",
      "source": [
        "Question 8: You are working as a data analyst in an e-commerce company. The\n",
        "marketing team wants to know if there is a relationship between advertising spend and\n",
        "daily sales.\n",
        "● Explain how you would use covariance and correlation to explore this\n",
        "relationship.\n",
        "● Write Python code to compute the correlation between the two lists:\n",
        "advertising_spend = [200, 250, 300, 400, 500]\n",
        "daily_sales = [2200, 2450, 2750, 3200, 4000]\n",
        "(Include your Python code and output in the code box below.)"
      ],
      "metadata": {
        "id": "PVvePaI5naJ3"
      }
    },
    {
      "cell_type": "code",
      "source": [
        "import numpy as np\n",
        "\n",
        "advertising_spend = [200, 250, 300, 400, 500]\n",
        "daily_sales = [2200, 2450, 2750, 3200, 4000]\n",
        "\n",
        "# Convert lists to numpy arrays\n",
        "spend = np.array(advertising_spend)\n",
        "sales = np.array(daily_sales)\n",
        "\n",
        "# Calculate the correlation coefficient\n",
        "correlation_coefficient = np.corrcoef(spend, sales)[0, 1]\n",
        "print(f\"Correlation Coefficient: {correlation_coefficient}\")"
      ],
      "metadata": {
        "colab": {
          "base_uri": "https://localhost:8080/"
        },
        "id": "OCE7KLpInevH",
        "outputId": "56d3a117-2c95-4ef0-d00d-85aff3435078"
      },
      "execution_count": null,
      "outputs": [
        {
          "output_type": "stream",
          "name": "stdout",
          "text": [
            "Correlation Coefficient: 0.9935824101653329\n"
          ]
        }
      ]
    },
    {
      "cell_type": "markdown",
      "metadata": {
        "id": "455798e3"
      },
      "source": [
        "To explore the relationship between advertising spend and daily sales, we can use covariance and correlation.\n",
        "\n",
        "**Covariance:** Covariance measures the direction of the linear relationship between two variables.\n",
        "- A positive covariance indicates that as one variable increases, the other variable tends to increase as well.\n",
        "- A negative covariance indicates that as one variable increases, the other variable tends to decrease.\n",
        "- A covariance near zero indicates a weak or no linear relationship.\n",
        "\n",
        "**Correlation Coefficient:** The correlation coefficient (specifically, the Pearson correlation coefficient) measures both the direction and strength of the linear relationship between two variables.\n",
        "- The correlation coefficient ranges from -1 to +1.\n",
        "- A value of +1 indicates a perfect positive linear relationship.\n",
        "- A value of -1 indicates a perfect negative linear relationship.\n",
        "- A value of 0 indicates no linear relationship.\n",
        "- The closer the value is to +1 or -1, the stronger the linear relationship.\n",
        "\n",
        "In this scenario, we would expect a positive relationship between advertising spend and daily sales. As advertising spend increases, we would generally expect daily sales to increase as well. The correlation coefficient will give us a standardized measure of how strong this linear relationship is."
      ]
    },
    {
      "cell_type": "markdown",
      "source": [
        "Question 9: Your team has collected customer satisfaction survey data on a scale of\n",
        "1-10 and wants to understand its distribution before launching a new product.\n",
        "● Explain which summary statistics and visualizations (e.g. mean, standard\n",
        "deviation, histogram) you’d use.\n",
        "● Write Python code to create a histogram using Matplotlib for the survey data:\n",
        "survey_scores = [7, 8, 5, 9, 6, 7, 8, 9, 10, 4, 7, 6, 9, 8, 7]\n",
        "(Include your Python code and output in the code box below.)"
      ],
      "metadata": {
        "id": "rHCneJ1nnqxx"
      }
    },
    {
      "cell_type": "code",
      "source": [
        "import matplotlib.pyplot as plt\n",
        "\n",
        "survey_scores = [7, 8, 5, 9, 6, 7, 8, 9, 10, 4, 7, 6, 9, 8, 7]\n",
        "\n",
        "# Create a histogram\n",
        "plt.figure(figsize=(8, 6))\n",
        "plt.hist(survey_scores, bins=range(4, 12), align='left', rwidth=0.8)\n",
        "plt.title('Distribution of Customer Satisfaction Scores')\n",
        "plt.xlabel('Satisfaction Score')\n",
        "plt.ylabel('Frequency')\n",
        "plt.xticks(range(4, 11))\n",
        "plt.grid(axis='y', alpha=0.75)\n",
        "plt.show()"
      ],
      "metadata": {
        "colab": {
          "base_uri": "https://localhost:8080/",
          "height": 564
        },
        "id": "pxBK_VCtnwp2",
        "outputId": "e09a7a5c-7d63-4375-f750-0e05bb43259f"
      },
      "execution_count": null,
      "outputs": [
        {
          "output_type": "display_data",
          "data": {
            "text/plain": [
              "<Figure size 800x600 with 1 Axes>"
            ],
            "image/png": "[encoded data removed]"
          },
          "metadata": {}
        }
      ]
    },
    {
      "cell_type": "markdown",
      "metadata": {
        "id": "23201c8d"
      },
      "source": [
        "To understand the distribution of customer satisfaction survey data on a scale of 1-10, several summary statistics and visualizations would be useful:\n",
        "\n",
        "**Summary Statistics:**\n",
        "\n",
        "*   **Mean:** This will give you the average customer satisfaction score, providing a central value for the data.\n",
        "*   **Median:** The median is the middle value when the data is ordered. It's less affected by extreme scores (outliers) than the mean and gives a good sense of the typical satisfaction level.\n",
        "*   **Mode:** The mode is the most frequent score. This can tell you which satisfaction level was chosen by the largest number of customers.\n",
        "*   **Standard Deviation:** This measures the spread or variability of the data around the mean. A smaller standard deviation indicates that scores are clustered closely around the mean, while a larger standard deviation suggests scores are more spread out.\n",
        "*   **Range:** The difference between the highest and lowest scores gives a simple measure of the spread of the data.\n",
        "\n",
        "**Visualizations:**\n",
        "\n",
        "*   **Histogram:** A histogram is an excellent way to visualize the distribution of the data. It shows the frequency of each score or range of scores, allowing you to see the shape of the distribution (e.g., is it skewed, is it symmetrical, are there multiple peaks?).\n",
        "*   **Boxplot:** A boxplot provides a visual summary of the distribution, showing the median, quartiles, and potential outliers. It's useful for quickly identifying the spread and any extreme values.\n",
        "\n",
        "By using these summary statistics and visualizations, you can gain a comprehensive understanding of your customer satisfaction data's distribution."
      ]
    }
  ]
}